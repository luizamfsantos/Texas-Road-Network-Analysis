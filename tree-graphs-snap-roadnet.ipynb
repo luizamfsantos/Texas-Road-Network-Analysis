{
 "cells": [
  {
   "cell_type": "code",
   "execution_count": 1,
   "id": "5c32ac21",
   "metadata": {
    "_cell_guid": "b1076dfc-b9ad-4769-8c92-a6c4dae69d19",
    "_uuid": "8f2839f25d086af736a60e9eeb907d3b93b6e0e5",
    "execution": {
     "iopub.execute_input": "2023-10-25T14:48:46.722026Z",
     "iopub.status.busy": "2023-10-25T14:48:46.721218Z",
     "iopub.status.idle": "2023-10-25T14:48:47.818860Z",
     "shell.execute_reply": "2023-10-25T14:48:47.819566Z",
     "shell.execute_reply.started": "2023-10-25T14:16:14.942269Z"
    },
    "papermill": {
     "duration": 1.114556,
     "end_time": "2023-10-25T14:48:47.819982",
     "exception": false,
     "start_time": "2023-10-25T14:48:46.705426",
     "status": "completed"
    },
    "tags": []
   },
   "outputs": [
    {
     "name": "stdout",
     "output_type": "stream",
     "text": [
      "\u001b[01;34m/kaggle/input\u001b[00m\r\n",
      "└── \u001b[01;34mgraphs-snap-roadnet\u001b[00m\r\n",
      "    ├── roadNet-CA.mtx\r\n",
      "    ├── roadNet-PA.mtx\r\n",
      "    └── roadNet-TX.mtx\r\n",
      "\r\n",
      "1 directory, 3 files\r\n"
     ]
    }
   ],
   "source": [
    "!tree /kaggle/input"
   ]
  }
 ],
 "metadata": {
  "kernelspec": {
   "display_name": "Python 3",
   "language": "python",
   "name": "python3"
  },
  "language_info": {
   "codemirror_mode": {
    "name": "ipython",
    "version": 3
   },
   "file_extension": ".py",
   "mimetype": "text/x-python",
   "name": "python",
   "nbconvert_exporter": "python",
   "pygments_lexer": "ipython3",
   "version": "3.7.12"
  },
  "papermill": {
   "default_parameters": {},
   "duration": 12.918593,
   "end_time": "2023-10-25T14:48:48.638368",
   "environment_variables": {},
   "exception": null,
   "input_path": "__notebook__.ipynb",
   "output_path": "__notebook__.ipynb",
   "parameters": {},
   "start_time": "2023-10-25T14:48:35.719775",
   "version": "2.3.3"
  }
 },
 "nbformat": 4,
 "nbformat_minor": 5
}
